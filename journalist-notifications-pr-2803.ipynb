{
 "cells": [
  {
   "cell_type": "markdown",
   "metadata": {},
   "source": [
    "# Journalist Notifications (PR #2803)"
   ]
  },
  {
   "cell_type": "code",
   "execution_count": 841,
   "metadata": {},
   "outputs": [],
   "source": [
    "import numpy as np\n",
    "import seaborn as sns\n",
    "from datetime import datetime\n",
    "import pytz\n",
    "import matplotlib.pyplot as plt\n",
    "import pandas as pd"
   ]
  },
  {
   "cell_type": "markdown",
   "metadata": {},
   "source": [
    "**Note to the reader:** this is merely a sanity check. The analysis here can conclude two ciphertext distributions are distinguishable, but not that two distributions are indistinguishable. The latter must be done through understanding the crypto used. See full discussion in [PR #2803](https://github.com/freedomofpress/securedrop/pull/2803) for background and more."
   ]
  },
  {
   "cell_type": "markdown",
   "metadata": {},
   "source": [
    "# 0. Data collection and munging"
   ]
  },
  {
   "cell_type": "markdown",
   "metadata": {},
   "source": [
    "Such we can rapidly generate many ciphertexts, first modify `/var/ossec` to email every minute, by setting the `frequency` to 60 in `install_files/ansible-base/securedrop-ossec-agent/var/ossec/etc/ossec.conf`:\n",
    "\n",
    "```\n",
    "  <localfile>\n",
    "    <log_format>full_command</log_format>\n",
    "    <command>head -1 /var/lib/securedrop/submissions_today.txt | grep '^[0-9]*$'</command>\n",
    "    <frequency>60</frequency>\n",
    "  </localfile>\n",
    "```\n",
    "\n",
    "Then reprovision:\n",
    "\n",
    "```\n",
    "make build-debs\n",
    "vagrant provision /staging/\n",
    "```\n",
    "\n",
    "Now for each case: generate at least 50 emails for the cases of submissions, no submissions for both compression and no compression.\n",
    "\n",
    "We record the time of the emails for later:"
   ]
  },
  {
   "cell_type": "code",
   "execution_count": 858,
   "metadata": {},
   "outputs": [],
   "source": [
    "timezone = pytz.timezone(\"America/Los_Angeles\")\n",
    "\n",
    "begin_time_compression_on_no_submissions = timezone.localize(datetime(2018, 3, 1, 12+7, 8))  # First email at 7:08pm\n",
    "end_time_compression_on_no_submissions = timezone.localize(datetime(2018, 3, 1, 12+9, 50, 29))  # Last email at 9:49pm\n",
    "\n",
    "begin_time_compression_on_submissions = timezone.localize(datetime(2018, 3, 1, 12+9, 50, 30))  # First email at 9:50pm\n",
    "end_time_compression_on_submissions = timezone.localize(datetime(2018, 3, 2, 12+4, 40, 0))  # Last email at 4:40pm the next day\n",
    "\n",
    "begin_time_compression_off_no_submissions = timezone.localize(datetime(2018, 3, 2, 12+5, 15, 30))  # First email at 5:15pm\n",
    "end_time_compression_off_no_submissions = timezone.localize(datetime(2018, 3, 2, 12+9, 50, 0))  # Last email at 9:50pm\n",
    "\n",
    "begin_time_compression_off_submissions = timezone.localize(datetime(2018, 3, 2, 12+9, 50, 30))  # First email at 9:50pm\n",
    "end_time_compression_off_submissions = timezone.localize(datetime(2018, 3, 3, 12+11, 50, 30))  # Last email at 11:30pm the next day"
   ]
  },
  {
   "cell_type": "markdown",
   "metadata": {},
   "source": [
    "## 0a. Download the emails from gmail"
   ]
  },
  {
   "cell_type": "markdown",
   "metadata": {},
   "source": [
    "We store the email credentials in `OSSEC_GMAIL_USERNAME` and `OSSEC_GMAIL_PASSWORD`."
   ]
  },
  {
   "cell_type": "code",
   "execution_count": 843,
   "metadata": {},
   "outputs": [],
   "source": [
    "import os\n",
    "import imaplib"
   ]
  },
  {
   "cell_type": "code",
   "execution_count": 844,
   "metadata": {},
   "outputs": [
    {
     "data": {
      "text/plain": [
       "('OK', [b'2546'])"
      ]
     },
     "execution_count": 844,
     "metadata": {},
     "output_type": "execute_result"
    }
   ],
   "source": [
    "mail = imaplib.IMAP4_SSL('imap.gmail.com')\n",
    "mail.login('{}@gmail.com'.format(os.getenv('OSSEC_GMAIL_USERNAME')),\n",
    "           os.getenv('OSSEC_GMAIL_PASSWORD'))\n",
    "mail.select('inbox')"
   ]
  },
  {
   "cell_type": "code",
   "execution_count": 845,
   "metadata": {},
   "outputs": [],
   "source": [
    "_, email_listing = mail.search(None, \n",
    "                               '(SUBJECT \"Submissions in the past 24h\")') #'ALL')"
   ]
  },
  {
   "cell_type": "code",
   "execution_count": 846,
   "metadata": {},
   "outputs": [
    {
     "data": {
      "text/plain": [
       "[b'1919 1937 1938 1939 1940 1941 1942 1943 1944 1945 1946 1947 1948 1949 1950 1957 1967 1971 2025 2052 2063 2064 2065 2066 2067 2068 2069 2070 2071 2072 2073 2074 2075 2076 2077 2078 2079 2080 2081 2082 2083 2084 2085 2087 2088 2089 2090 2091 2092 2093 2094 2095 2096 2097 2098 2099 2100 2101 2102 2103 2104 2105 2106 2107 2108 2109 2111 2112 2113 2114 2115 2116 2117 2118 2119 2120 2121 2122 2123 2124 2125 2126 2127 2128 2129 2130 2131 2132 2133 2134 2135 2136 2137 2138 2139 2140 2141 2142 2143 2144 2145 2146 2147 2148 2149 2150 2151 2152 2153 2154 2155 2156 2157 2158 2159 2160 2161 2162 2163 2164 2165 2166 2167 2168 2169 2170 2171 2172 2173 2174 2175 2176 2177 2178 2179 2180 2181 2182 2183 2184 2185 2186 2187 2188 2189 2190 2191 2192 2193 2194 2195 2196 2197 2198 2199 2200 2201 2202 2203 2204 2205 2206 2207 2208 2209 2210 2211 2212 2213 2214 2215 2227 2228 2229 2230 2231 2232 2233 2234 2235 2236 2237 2238 2239 2240 2241 2242 2243 2244 2245 2246 2247 2248 2249 2266 2267 2268 2269 2270 2271 2273 2274 2275 2276 2277 2278 2279 2280 2281 2282 2283 2284 2285 2286 2287 2288 2289 2290 2291 2292 2293 2294 2295 2296 2297 2298 2299 2300 2301 2302 2303 2304 2305 2306 2307 2308 2309 2310 2311 2312 2313 2314 2315 2316 2317 2318 2319 2320 2321 2322 2323 2324 2325 2326 2327 2328 2329 2330 2331 2332 2333 2369 2370 2371 2372 2373 2374 2375 2376 2377 2378 2380 2389 2394 2395 2396 2397 2400 2401 2402 2403 2405 2406 2409 2410 2417 2419 2420 2421 2422 2423 2424 2425 2426 2427 2429 2430 2434 2435 2439 2443 2444 2445 2446 2447 2448 2449 2450 2452 2453 2455 2456 2457 2458 2459 2460 2461 2462 2463 2464 2465 2467 2468 2469 2470 2471 2472 2473 2474 2475 2476 2478 2479 2480 2481 2482 2483 2484 2485 2486 2487 2488 2489 2490 2491 2492 2493 2494 2495 2496 2497 2498 2499 2500 2501 2502 2503 2504 2505 2506 2507 2508 2509 2510 2511 2512 2513 2514 2515 2516 2517 2518 2519 2520 2521 2522 2524 2526 2527 2528 2529 2530 2531 2532 2533 2534 2535 2536 2537 2538 2539 2540 2541 2542 2543 2544 2545 2546']"
      ]
     },
     "execution_count": 846,
     "metadata": {},
     "output_type": "execute_result"
    }
   ],
   "source": [
    "email_listing"
   ]
  },
  {
   "cell_type": "code",
   "execution_count": 847,
   "metadata": {},
   "outputs": [],
   "source": [
    "id_list = email_listing[0].split()"
   ]
  },
  {
   "cell_type": "code",
   "execution_count": 848,
   "metadata": {},
   "outputs": [],
   "source": [
    "ZEROTH_LINE = '-----BEGIN PGP MESSAGE-----'\n",
    "FIRST_LINE = 'Version: GnuPG v1'\n",
    "LAST_LINE = '-----END PGP MESSAGE-----'"
   ]
  },
  {
   "cell_type": "code",
   "execution_count": 849,
   "metadata": {},
   "outputs": [],
   "source": [
    "def fetch_and_process_email(email_id):\n",
    "    # Fetch the email\n",
    "    _, email_data = mail.fetch(email_id.decode('utf-8'), '(RFC822)')\n",
    "    message = email_data[0][1]\n",
    "    message_lines = message.decode('utf-8').split('\\r\\n')\n",
    "    \n",
    "    in_pgp_ciphertext = 0\n",
    "    pgp_ciphertext = ''\n",
    "    for ind, line in enumerate(message_lines):\n",
    "        # Extract the date the email was received\n",
    "        if 'Received' in line:\n",
    "            date_raw = message_lines[ind + 4]\n",
    "            email_date = datetime.strptime(date_raw.strip(), \n",
    "                                           '%a, %d %b %Y %H:%M:%S %z (%Z)')\n",
    "\n",
    "        # Extract the ciphertext from the email\n",
    "        # We will save just the Radix-64 ciphertext without the version string\n",
    "        # or begin, end PGP message string.\n",
    "        if line == LAST_LINE:\n",
    "            in_pgp_ciphertext = 0\n",
    "            return pgp_ciphertext, email_date\n",
    "        \n",
    "        if in_pgp_ciphertext == 1:\n",
    "            pgp_ciphertext += line\n",
    "        \n",
    "        if line == FIRST_LINE:\n",
    "            in_pgp_ciphertext = 1"
   ]
  },
  {
   "cell_type": "code",
   "execution_count": 859,
   "metadata": {},
   "outputs": [],
   "source": [
    "ciphertexts_compression_on_no_submissions = []\n",
    "ciphertexts_compression_on_submissions = []\n",
    "ciphertexts_compression_off_no_submissions = []\n",
    "ciphertexts_compression_off_submissions = []\n",
    "\n",
    "for email_id in id_list:\n",
    "    pgp_ciphertext, email_date = fetch_and_process_email(email_id)\n",
    "    \n",
    "    if email_date > begin_time_compression_on_no_submissions and \\\n",
    "       email_date < end_time_compression_on_no_submissions:\n",
    "        ciphertexts_compression_on_no_submissions.append(pgp_ciphertext)\n",
    "    \n",
    "    if email_date > begin_time_compression_on_submissions and \\\n",
    "       email_date < end_time_compression_on_submissions:\n",
    "        ciphertexts_compression_on_submissions.append(pgp_ciphertext)\n",
    "\n",
    "    if email_date > begin_time_compression_off_no_submissions and \\\n",
    "       email_date < end_time_compression_off_no_submissions:\n",
    "        ciphertexts_compression_off_no_submissions.append(pgp_ciphertext)\n",
    "\n",
    "    if email_date > begin_time_compression_off_submissions and \\\n",
    "       email_date < end_time_compression_off_submissions:\n",
    "        ciphertexts_compression_off_submissions.append(pgp_ciphertext)"
   ]
  },
  {
   "cell_type": "markdown",
   "metadata": {},
   "source": [
    "# 1. Compute ciphertext lengths\n",
    "\n"
   ]
  },
  {
   "cell_type": "code",
   "execution_count": 860,
   "metadata": {},
   "outputs": [],
   "source": [
    "def compute_ciphertext_lengths(ciphertext_list):\n",
    "    radix_64_length_arr = []\n",
    "    decoded_length_arr = []\n",
    "    for ciphertext in ciphertext_list:\n",
    "        radix_64_length_arr.append(len(ciphertext))\n",
    "        \n",
    "    return radix_64_length_arr, decoded_length_arr"
   ]
  },
  {
   "cell_type": "code",
   "execution_count": 861,
   "metadata": {},
   "outputs": [],
   "source": [
    "radix_64_lens_compression_on_no_submissions, \\\n",
    "decoded_lens_compression_on_no_submissions = \\\n",
    "compute_ciphertext_lengths(ciphertexts_compression_on_no_submissions)\n",
    "\n",
    "radix_64_lens_compression_on_submissions, \\\n",
    "decoded_lens_compression_on_submissions = \\\n",
    "compute_ciphertext_lengths(ciphertexts_compression_on_submissions)\n",
    "\n",
    "radix_64_lens_compression_off_no_submissions, \\\n",
    "decoded_lens_compression_off_no_submissions = \\\n",
    "compute_ciphertext_lengths(ciphertexts_compression_off_no_submissions)\n",
    "\n",
    "radix_64_lens_compression_off_submissions, \\\n",
    "decoded_lens_compression_off_submissions = \\\n",
    "compute_ciphertext_lengths(ciphertexts_compression_off_submissions)"
   ]
  },
  {
   "cell_type": "markdown",
   "metadata": {},
   "source": [
    "# 2. Make nice summary plot"
   ]
  },
  {
   "cell_type": "code",
   "execution_count": 862,
   "metadata": {},
   "outputs": [],
   "source": [
    "def ciphertext_statistics(ciphertext_list):\n",
    "    print('Count: ', len(ciphertext_list))\n",
    "    print('Mean: ', np.mean(ciphertext_list))\n",
    "    print('Standard deviation: ', np.std(ciphertext_list))\n",
    "    print('Min: ', np.min(ciphertext_list))\n",
    "    print('Max: ', np.max(ciphertext_list))"
   ]
  },
  {
   "cell_type": "code",
   "execution_count": 863,
   "metadata": {},
   "outputs": [
    {
     "name": "stdout",
     "output_type": "stream",
     "text": [
      "Count:  54\n",
      "Mean:  914.6296296296297\n",
      "Standard deviation:  1.9654072831735698\n",
      "Min:  913\n",
      "Max:  917\n"
     ]
    }
   ],
   "source": [
    "ciphertext_statistics(radix_64_lens_compression_on_no_submissions)"
   ]
  },
  {
   "cell_type": "code",
   "execution_count": 864,
   "metadata": {
    "scrolled": true
   },
   "outputs": [
    {
     "name": "stdout",
     "output_type": "stream",
     "text": [
      "Count:  188\n",
      "Mean:  915.8723404255319\n",
      "Standard deviation:  1.7997283633878747\n",
      "Min:  913\n",
      "Max:  917\n"
     ]
    }
   ],
   "source": [
    "ciphertext_statistics(radix_64_lens_compression_on_submissions)"
   ]
  },
  {
   "cell_type": "code",
   "execution_count": 865,
   "metadata": {},
   "outputs": [
    {
     "name": "stdout",
     "output_type": "stream",
     "text": [
      "Count:  80\n",
      "Mean:  913.0\n",
      "Standard deviation:  0.0\n",
      "Min:  913\n",
      "Max:  913\n"
     ]
    }
   ],
   "source": [
    "ciphertext_statistics(radix_64_lens_compression_off_no_submissions)"
   ]
  },
  {
   "cell_type": "code",
   "execution_count": 866,
   "metadata": {},
   "outputs": [
    {
     "name": "stdout",
     "output_type": "stream",
     "text": [
      "Count:  57\n",
      "Mean:  913.0\n",
      "Standard deviation:  0.0\n",
      "Min:  913\n",
      "Max:  913\n"
     ]
    }
   ],
   "source": [
    "ciphertext_statistics(radix_64_lens_compression_off_submissions)"
   ]
  },
  {
   "cell_type": "markdown",
   "metadata": {},
   "source": [
    "Now we'll do walk through of the error analysis so we can make a meaningful summary plot:"
   ]
  },
  {
   "cell_type": "code",
   "execution_count": 867,
   "metadata": {},
   "outputs": [],
   "source": [
    "hist_counts, bins = np.histogram(radix_64_lens_compression_on_no_submissions, density=False)\n",
    "hist_normalized, bins = np.histogram(radix_64_lens_compression_on_no_submissions, density=True)"
   ]
  },
  {
   "cell_type": "code",
   "execution_count": 868,
   "metadata": {},
   "outputs": [
    {
     "data": {
      "text/plain": [
       "array([32,  0,  0,  0,  0,  0,  0,  0,  0, 22])"
      ]
     },
     "execution_count": 868,
     "metadata": {},
     "output_type": "execute_result"
    }
   ],
   "source": [
    "hist_counts"
   ]
  },
  {
   "cell_type": "code",
   "execution_count": 869,
   "metadata": {},
   "outputs": [
    {
     "data": {
      "text/plain": [
       "array([913. , 913.4, 913.8, 914.2, 914.6, 915. , 915.4, 915.8, 916.2,\n",
       "       916.6, 917. ])"
      ]
     },
     "execution_count": 869,
     "metadata": {},
     "output_type": "execute_result"
    }
   ],
   "source": [
    "bins"
   ]
  },
  {
   "cell_type": "markdown",
   "metadata": {},
   "source": [
    "For plotting we want to plot each point at the center of the bin:"
   ]
  },
  {
   "cell_type": "code",
   "execution_count": 870,
   "metadata": {},
   "outputs": [],
   "source": [
    "bin_centers = (bins[1:] + bins[:-1]) / 2"
   ]
  },
  {
   "cell_type": "markdown",
   "metadata": {},
   "source": [
    "Error bars in the x direction are just the bin width:"
   ]
  },
  {
   "cell_type": "code",
   "execution_count": 871,
   "metadata": {},
   "outputs": [],
   "source": [
    "err_bin_centers = bins[1:] - bins[:-1]"
   ]
  },
  {
   "cell_type": "markdown",
   "metadata": {},
   "source": [
    "We should plot error bars in the counts assuming the errors are Poisson-distributed (a reasonable assumption given the small number statistics). As such, we know that the error bar on the counts $N$ in each bin (this is the count of ciphertexts) is given by $\\sigma_y = \\sqrt{N}$. Since we are computing the normalized histogram, the error bar needs to be scaled appropriately: \n"
   ]
  },
  {
   "cell_type": "code",
   "execution_count": 872,
   "metadata": {},
   "outputs": [],
   "source": [
    "y_err_counts = hist_counts ** 0.5 "
   ]
  },
  {
   "cell_type": "code",
   "execution_count": 873,
   "metadata": {},
   "outputs": [
    {
     "data": {
      "text/plain": [
       "array([5.65685425, 0.        , 0.        , 0.        , 0.        ,\n",
       "       0.        , 0.        , 0.        , 0.        , 4.69041576])"
      ]
     },
     "execution_count": 873,
     "metadata": {},
     "output_type": "execute_result"
    }
   ],
   "source": [
    "y_err_counts"
   ]
  },
  {
   "cell_type": "code",
   "execution_count": 874,
   "metadata": {},
   "outputs": [],
   "source": [
    "y_err_normalized = y_err_counts / np.sum(hist_counts)"
   ]
  },
  {
   "cell_type": "code",
   "execution_count": 875,
   "metadata": {},
   "outputs": [
    {
     "data": {
      "text/plain": [
       "array([0.10475656, 0.        , 0.        , 0.        , 0.        ,\n",
       "       0.        , 0.        , 0.        , 0.        , 0.08685955])"
      ]
     },
     "execution_count": 875,
     "metadata": {},
     "output_type": "execute_result"
    }
   ],
   "source": [
    "y_err_normalized"
   ]
  },
  {
   "cell_type": "markdown",
   "metadata": {},
   "source": [
    "Now we'll write a function that does these computations and the error analysis given a list of ciphertext lengths:"
   ]
  },
  {
   "cell_type": "code",
   "execution_count": 876,
   "metadata": {},
   "outputs": [],
   "source": [
    "def compute_histogram_errs(ciphertext_lengths, bins):\n",
    "    hist_counts, bins = np.histogram(ciphertext_lengths, density=False, bins=bins)\n",
    "    hist_normalized, bins = np.histogram(ciphertext_lengths, density=True, bins=bins)\n",
    "    bin_centers = (bins[1:] + bins[:-1]) / 2\n",
    "    err_bin_centers = bins[1:] - bins[:-1]\n",
    "    y_err_counts = hist_counts ** 0.5 \n",
    "    y_err_normalized = y_err_counts / np.sum(hist_counts)\n",
    "    return hist_normalized, y_err_normalized"
   ]
  },
  {
   "cell_type": "code",
   "execution_count": 877,
   "metadata": {},
   "outputs": [],
   "source": [
    "compress_on_submissions_y, compress_on_submissions_yerr = compute_histogram_errs(radix_64_lens_compression_on_submissions, bins)\n",
    "\n",
    "compress_off_no_submissions_y, compress_off_no_submissions_yerr = compute_histogram_errs(radix_64_lens_compression_off_no_submissions, bins)\n",
    "\n",
    "compress_off_submissions_y, compress_off_submissions_yerr = compute_histogram_errs(radix_64_lens_compression_off_submissions, bins)"
   ]
  },
  {
   "cell_type": "code",
   "execution_count": 878,
   "metadata": {},
   "outputs": [
    {
     "data": {
      "text/plain": [
       "<matplotlib.legend.Legend at 0x11894c390>"
      ]
     },
     "execution_count": 878,
     "metadata": {},
     "output_type": "execute_result"
    },
    {
     "data": {
      "image/png": "[encoded data removed]",
      "text/plain": [
       "<matplotlib.figure.Figure at 0x118853828>"
      ]
     },
     "metadata": {},
     "output_type": "display_data"
    }
   ],
   "source": [
    "plt.subplot(1, 2, 1)\n",
    "plt.errorbar(bin_centers, \n",
    "             hist_normalized, \n",
    "             yerr=y_err_normalized,\n",
    "             xerr=err_bin_centers,\n",
    "             linestyle='none', \n",
    "             ecolor='blue',\n",
    "             alpha=0.75)\n",
    "plt.bar(bin_centers, hist_normalized, alpha=0.5, \n",
    "        edgecolor='none', label=\"No submissions\")\n",
    "\n",
    "plt.errorbar(bin_centers, \n",
    "             compress_on_submissions_y, \n",
    "             yerr=compress_on_submissions_yerr, \n",
    "             xerr=err_bin_centers,\n",
    "             linestyle='none', \n",
    "             ecolor='green',\n",
    "             alpha=0.75)\n",
    "plt.bar(bin_centers, compress_on_submissions_y, width=0.6,\n",
    "        alpha=0.5, edgecolor='none', label=\"Submissions\")\n",
    "\n",
    "plt.title(\"Compression on (default)\")\n",
    "plt.ylabel('Email count (normalized)')\n",
    "plt.xlabel('Ciphertext length (characters)')\n",
    "plt.legend()\n",
    "\n",
    "plt.subplot(1, 2, 2)\n",
    "plt.errorbar(bin_centers, \n",
    "             compress_off_no_submissions_y, \n",
    "             yerr=compress_off_no_submissions_yerr, \n",
    "             xerr=err_bin_centers,\n",
    "             linestyle='none', \n",
    "             ecolor='blue',\n",
    "             alpha=0.75)\n",
    "plt.bar(bin_centers, compress_off_no_submissions_y, alpha=0.5, \n",
    "        edgecolor='none', label=\"No submissions\")\n",
    "\n",
    "plt.errorbar(bin_centers, \n",
    "             compress_off_submissions_y, \n",
    "             yerr=compress_off_submissions_yerr, \n",
    "             xerr=err_bin_centers,\n",
    "             linestyle='none', \n",
    "             ecolor='green',\n",
    "             alpha=0.75)\n",
    "plt.bar(bin_centers, compress_off_submissions_y, width=0.6,\n",
    "        alpha=0.5, edgecolor='none', label=\"Submissions\")\n",
    "\n",
    "plt.title(\"Compression off\")\n",
    "plt.xlabel('Ciphertext length (characters)')\n",
    "plt.legend()"
   ]
  },
  {
   "cell_type": "markdown",
   "metadata": {},
   "source": [
    "If you're wondering why the normalized email count in some bins exceeds 1, it's because $N_{\\mbox{emails}} = \\sum_{i=0}^{N_\\mbox{bins}} N_{i} \\Delta x$ where $N_i$ are the counts in the ith bin."
   ]
  },
  {
   "cell_type": "code",
   "execution_count": null,
   "metadata": {},
   "outputs": [],
   "source": []
  }
 ],
 "metadata": {
  "kernelspec": {
   "display_name": "Python 3",
   "language": "python",
   "name": "python3"
  },
  "language_info": {
   "codemirror_mode": {
    "name": "ipython",
    "version": 3
   },
   "file_extension": ".py",
   "mimetype": "text/x-python",
   "name": "python",
   "nbconvert_exporter": "python",
   "pygments_lexer": "ipython3",
   "version": "3.6.3"
  }
 },
 "nbformat": 4,
 "nbformat_minor": 2
}
